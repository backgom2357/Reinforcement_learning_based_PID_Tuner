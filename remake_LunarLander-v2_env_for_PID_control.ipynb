{
 "cells": [
  {
   "cell_type": "markdown",
   "metadata": {},
   "source": [
    "# Remake LunarLander-v2 Env for PID control"
   ]
  },
  {
   "cell_type": "code",
   "execution_count": 1,
   "metadata": {},
   "outputs": [],
   "source": [
    "import gym\n",
    "import random\n",
    "import torch\n",
    "import numpy as np\n",
    "from collections import deque\n",
    "import matplotlib.pyplot as plt\n",
    "import cv2\n",
    "import time\n",
    "%matplotlib inline\n",
    "\n",
    "is_ipython = 'inline' in plt.get_backend()\n",
    "if is_ipython:\n",
    "    from IPython import display\n",
    "\n",
    "plt.ion()"
   ]
  },
  {
   "cell_type": "code",
   "execution_count": null,
   "metadata": {
    "scrolled": true
   },
   "outputs": [],
   "source": [
    "env = gym.make(\"LunarLander-v2\")"
   ]
  },
  {
   "cell_type": "code",
   "execution_count": null,
   "metadata": {},
   "outputs": [],
   "source": [
    "'''\n",
    "s[0] is the horizontal coordinate\n",
    "s[1] is the vertical coordinate\n",
    "s[2] is the horizontal speed\n",
    "s[3] is the vertical speed\n",
    "s[4] is the angle\n",
    "s[5] is the angular speed\n",
    "s[6] 1 if first leg has contact, else 0\n",
    "s[7] 1 if second leg has contact, else 0\n",
    "'''"
   ]
  },
  {
   "cell_type": "markdown",
   "metadata": {},
   "source": [
    "## Check state[4] (angle)\n",
    "\n",
    "Befor Setting angle as set point of PID control, check what angle is."
   ]
  },
  {
   "cell_type": "code",
   "execution_count": null,
   "metadata": {},
   "outputs": [],
   "source": [
    "env.reset()\n",
    "angles = []\n",
    "imgs = []\n",
    "for _ in range(50):\n",
    "    result = env.step(1)\n",
    "    angles.append(result[0][4])\n",
    "    imgs.append(env.render(mode='rgb_array'))\n",
    "env.close()"
   ]
  },
  {
   "cell_type": "code",
   "execution_count": null,
   "metadata": {},
   "outputs": [],
   "source": [
    "def check_angle(angles, imgs):\n",
    "    T = 50\n",
    "    plt.figure(figsize=(10,400))\n",
    "    for i in range(T):\n",
    "        ax = plt.subplot(T,1,i+1)\n",
    "        ax.set_title(str(angles[i]))\n",
    "        ax.imshow(imgs[i])"
   ]
  },
  {
   "cell_type": "code",
   "execution_count": null,
   "metadata": {
    "scrolled": true
   },
   "outputs": [],
   "source": [
    "check_angle(angles,imgs)"
   ]
  },
  {
   "cell_type": "code",
   "execution_count": null,
   "metadata": {},
   "outputs": [],
   "source": [
    "env.reset()\n",
    "angles = []\n",
    "imgs = []\n",
    "for _ in range(50):\n",
    "    result = env.step(3)\n",
    "    angles.append(result[0][4])\n",
    "    imgs.append(env.render(mode='rgb_array'))\n",
    "env.close()"
   ]
  },
  {
   "cell_type": "code",
   "execution_count": null,
   "metadata": {
    "scrolled": true
   },
   "outputs": [],
   "source": [
    "check_angle(angles, imgs)"
   ]
  },
  {
   "cell_type": "code",
   "execution_count": null,
   "metadata": {},
   "outputs": [],
   "source": [
    "'''\n",
    "s[0] is the horizontal coordinate\n",
    "s[1] is the vertical coordinate\n",
    "s[2] is the horizontal speed\n",
    "s[3] is the vertical speed\n",
    "s[4] is the angle\n",
    "s[5] is the angular speed\n",
    "s[6] 1 if first leg has contact, else 0\n",
    "s[7] 1 if second leg has contact, else 0\n",
    "'''"
   ]
  },
  {
   "cell_type": "code",
   "execution_count": null,
   "metadata": {},
   "outputs": [],
   "source": [
    "state = env.reset()\n",
    "origin_vertical = state[1]\n",
    "origin_horizontal = state[0]\n",
    "done = False\n",
    "action = 0\n",
    "\n",
    "main_engine_on_during = 5\n",
    "main_engine_on_count = 0\n",
    "\n",
    "side_engine_on_during = 20\n",
    "side_engine_on_count = 0\n",
    "\n",
    "\n",
    "print('origin : ',origin_horizontal)\n",
    "print()\n",
    "\n",
    "while not done:\n",
    "    env.render()\n",
    "    n_state, reward, done, info = env.step(action)\n",
    "    if n_state[5]<0:\n",
    "        action=1\n",
    "    else:\n",
    "        action=3\n",
    "    \n",
    "    if side_engine_on_count%side_engine_on_during == 0:\n",
    "        if n_state[2] < 0:\n",
    "            action=3\n",
    "        elif n_state[2] > 0:\n",
    "            action=1\n",
    "    side_engine_on_count += 1\n",
    "    \n",
    "    if n_state[3] < 0 and main_engine_on_count%main_engine_on_during != 0:\n",
    "        action=2\n",
    "    main_engine_on_count += 1\n",
    "    \n",
    "    time.sleep(0.01)\n",
    "    \n",
    "    print(f'angular speed:{n_state[5]:+0.3f}, horizontal cord:{n_state[0]:+0.3f}, horizontal speed:{n_state[2]:+0.3f},vertical speed:{n_state[3]:+0.3f}', end='\\r')\n",
    "    \n",
    "env.close()"
   ]
  },
  {
   "cell_type": "markdown",
   "metadata": {},
   "source": [
    "### Continuous action space에서 살펴보기"
   ]
  },
  {
   "cell_type": "code",
   "execution_count": null,
   "metadata": {},
   "outputs": [],
   "source": [
    "cenv = gym.make(\"LunarLanderContinuous-v2\")"
   ]
  },
  {
   "cell_type": "code",
   "execution_count": null,
   "metadata": {},
   "outputs": [],
   "source": [
    "'''\n",
    "s[0] is the horizontal coordinate\n",
    "s[1] is the vertical coordinate\n",
    "s[2] is the horizontal speed\n",
    "s[3] is the vertical speed\n",
    "s[4] is the angle\n",
    "s[5] is the angular speed\n",
    "s[6] 1 if first leg has contact, else 0\n",
    "s[7] 1 if second leg has contact, else 0\n",
    "'''"
   ]
  },
  {
   "cell_type": "code",
   "execution_count": null,
   "metadata": {},
   "outputs": [],
   "source": [
    "state = cenv.reset()\n",
    "origin_vertical = state[1]\n",
    "origin_horizontal = state[0]\n",
    "done = False\n",
    "action = [0,0]\n",
    "\n",
    "while not done:\n",
    "    cenv.render()\n",
    "    n_state, reward, done, info = cenv.step(action)\n",
    "    if n_state[5]<0:\n",
    "        action[1]=n_state[5]*50 + (2 - (n_state[2]<0) + (n_state[2]>0)) * -n_state[2]*10 + (2 - (n_state[0]<0) + (n_state[0]>0)) * -n_state[0]\n",
    "    elif n_state[5]>0: \n",
    "        action[1]=n_state[5]*50 + (2 - (n_state[2]<0) + (n_state[2]>0)) * -n_state[2]*10 + (2 - (n_state[0]<0) + (n_state[0]>0)) * -n_state[0]\n",
    "        \n",
    "    if n_state[3]<0:\n",
    "        action[0]=abs(n_state[3])*5\n",
    "        \n",
    "    time.sleep(0.01)\n",
    "    \n",
    "    print(f'action:[{action[0]:+0.2f},{action[1]:+0.2f}], a s:{n_state[5]:+0.3f}, h c:{n_state[0]:+0.3f}, h s:{n_state[2]:+0.3f},v s:{n_state[3]:+0.3f}', end='\\r')\n",
    "    \n",
    "cenv.close()"
   ]
  },
  {
   "cell_type": "markdown",
   "metadata": {},
   "source": [
    "### Side engine에 PID control 적용"
   ]
  },
  {
   "cell_type": "code",
   "execution_count": 2,
   "metadata": {},
   "outputs": [
    {
     "data": {
      "text/plain": [
       "'\\ns[0] is the horizontal coordinate\\ns[1] is the vertical coordinate\\ns[2] is the horizontal speed\\ns[3] is the vertical speed\\ns[4] is the angle\\ns[5] is the angular speed\\ns[6] 1 if first leg has contact, else 0\\ns[7] 1 if second leg has contact, else 0\\n'"
      ]
     },
     "execution_count": 2,
     "metadata": {},
     "output_type": "execute_result"
    }
   ],
   "source": [
    "'''\n",
    "s[0] is the horizontal coordinate\n",
    "s[1] is the vertical coordinate\n",
    "s[2] is the horizontal speed\n",
    "s[3] is the vertical speed\n",
    "s[4] is the angle\n",
    "s[5] is the angular speed\n",
    "s[6] 1 if first leg has contact, else 0\n",
    "s[7] 1 if second leg has contact, else 0\n",
    "'''"
   ]
  },
  {
   "cell_type": "code",
   "execution_count": 3,
   "metadata": {},
   "outputs": [],
   "source": [
    "from PID import PID"
   ]
  },
  {
   "cell_type": "code",
   "execution_count": 194,
   "metadata": {},
   "outputs": [
    {
     "name": "stdout",
     "output_type": "stream",
     "text": [
      "action:[+0.00,+0.00], as:+0.000,vs:+0.000, vsp:+0.0, asp:+0.03\n",
      "reward: 190.67045683024548\n"
     ]
    }
   ],
   "source": [
    "import gym\n",
    "import random\n",
    "import torch\n",
    "import numpy as np\n",
    "from collections import deque\n",
    "import matplotlib.pyplot as plt\n",
    "import cv2\n",
    "import time\n",
    "\n",
    "from PID import PID\n",
    "\n",
    "cenv = gym.make(\"LunarLanderContinuous-v2\")\n",
    "\n",
    "SKIP_CONTROL = 0    # Use previous control decision SKIP_CONTROL times, that's how you\n",
    "                    # can test what skip is still usable.\n",
    "\n",
    "side_engine_control = 0\n",
    "main_engine_control = 0\n",
    "engine_off = False\n",
    "\n",
    "human_wants_restart = False\n",
    "human_sets_pause = False\n",
    "\n",
    "def key_press(key, mod):\n",
    "    global side_engine_control, main_engine_control, engine_off, human_wants_restart, human_sets_pause\n",
    "    if key==0xff0d: human_wants_restart = True  # Enter\n",
    "    if key==32: human_sets_pause = not human_sets_pause # Space\n",
    "    a = int(key)\n",
    "    if a <= 0: return\n",
    "    if a==ord('a'):\n",
    "        side_engine_control = 0.3\n",
    "    if a==ord('d'):\n",
    "        side_engine_control = -0.3\n",
    "    if a==ord('s'):\n",
    "        main_engine_control = -0.3\n",
    "    if a==ord('w'):\n",
    "        main_engine_control = 0.3\n",
    "    if a==ord('q'):\n",
    "        engine_off=True\n",
    "\n",
    "def key_release(key, mod):\n",
    "    global side_engine_control, main_engine_control, engine_off\n",
    "    if side_engine_control == -0.3 or side_engine_control == 0.3:\n",
    "        side_engine_control = 0\n",
    "    if main_engine_control == -0.3 or main_engine_control == 0.3:\n",
    "        main_engine_control = 0\n",
    "    if engine_off == True:\n",
    "        engine_off = False\n",
    "\n",
    "cenv.render()\n",
    "cenv.unwrapped.viewer.window.on_key_press = key_press\n",
    "cenv.unwrapped.viewer.window.on_key_release = key_release\n",
    "\n",
    "def rollout(env):\n",
    "    global side_engine_control, main_engine_control, engine_off, human_wants_restart, human_sets_pause\n",
    "    \n",
    "    human_wants_restart = False\n",
    "    \n",
    "    state = cenv.reset()\n",
    "    done = False\n",
    "    action = [0,0]\n",
    "\n",
    "    apid = PID(1.253136190601821, 0.620026107056804, -0.002720052821954503)\n",
    "    vpid = PID(1.253136190601821, 0.620026107056804, -0.002720052821954503)\n",
    "    apid.SetPoint=0\n",
    "    vpid.SetPoint=0\n",
    "\n",
    "    cr = 0\n",
    "    \n",
    "    apid_sp_list, apid_fb_list = [], []\n",
    "    vpid_sp_list, vpid_fb_list = [], []\n",
    "\n",
    "    while not done:\n",
    "     \n",
    "        window_still_open = cenv.render()\n",
    "        n_state, reward, done, info = cenv.step(action)\n",
    "        \n",
    "        # PID control\n",
    "        apid.SetPoint=side_engine_control\n",
    "        vpid.SetPoint=main_engine_control\n",
    "        \n",
    "        apid_sp_list.append(apid.SetPoint)\n",
    "        vpid_sp_list.append(vpid.SetPoint)\n",
    "\n",
    "        apid.update(n_state[4])\n",
    "        action[1] = (-apid.output*2.5 + n_state[5])*20\n",
    "\n",
    "        vpid.update(n_state[3])\n",
    "        action[0] = vpid.output\n",
    "        \n",
    "        apid_fb_list.append(n_state[4])\n",
    "        vpid_fb_list.append(n_state[3])\n",
    "\n",
    "        time.sleep(0.01)\n",
    "\n",
    "        if engine_off:\n",
    "            action = [0, 0]\n",
    "\n",
    "        print(f'action:[{action[0]:+0.2f},{action[1]:+0.2f}], as:{n_state[5]:+0.3f},vs:{n_state[3]:+0.3f}, vsp:{vpid.SetPoint:+0.1f}, asp:{apid.SetPoint:+0.1f}', end='\\r')\n",
    "        cr+=reward\n",
    "        \n",
    "        if window_still_open==False: return False\n",
    "        if human_wants_restart: break\n",
    "        while human_sets_pause:\n",
    "            cenv.render()\n",
    "            time.sleep(0.1)\n",
    "    print()\n",
    "    print(\"reward:\",cr)\n",
    "    \n",
    "    return apid_sp_list, apid_fb_list, vpid_sp_list, vpid_fb_list\n",
    "\n",
    "apid_sp_list, apid_fb_list, vpid_sp_list, vpid_fb_list = window_still_open = rollout(cenv)\n",
    "cenv.close()"
   ]
  },
  {
   "cell_type": "code",
   "execution_count": 195,
   "metadata": {
    "scrolled": true
   },
   "outputs": [
    {
     "data": {
      "text/plain": [
       "[<matplotlib.lines.Line2D at 0x7f7d05e4f9d0>]"
      ]
     },
     "execution_count": 195,
     "metadata": {},
     "output_type": "execute_result"
    },
    {
     "data": {
      "image/png": "[encoded data removed]",
      "text/plain": [
       "<Figure size 432x288 with 1 Axes>"
      ]
     },
     "metadata": {
      "needs_background": "light"
     },
     "output_type": "display_data"
    }
   ],
   "source": [
    "plt.ylim(-1,1)\n",
    "plt.plot(vpid_sp_list)\n",
    "plt.plot(vpid_fb_list)"
   ]
  },
  {
   "cell_type": "code",
   "execution_count": 196,
   "metadata": {
    "scrolled": true
   },
   "outputs": [
    {
     "data": {
      "text/plain": [
       "[<matplotlib.lines.Line2D at 0x7f7d05ddaa10>]"
      ]
     },
     "execution_count": 196,
     "metadata": {},
     "output_type": "execute_result"
    },
    {
     "data": {
      "image/png": "[encoded data removed]",
      "text/plain": [
       "<Figure size 432x288 with 1 Axes>"
      ]
     },
     "metadata": {
      "needs_background": "light"
     },
     "output_type": "display_data"
    }
   ],
   "source": [
    "plt.ylim(-0.5,0.5)\n",
    "plt.plot(apid_sp_list)\n",
    "plt.plot(apid_fb_list)"
   ]
  },
  {
   "cell_type": "code",
   "execution_count": null,
   "metadata": {},
   "outputs": [],
   "source": []
  }
 ],
 "metadata": {
  "kernelspec": {
   "display_name": "Python 3",
   "language": "python",
   "name": "python3"
  },
  "language_info": {
   "codemirror_mode": {
    "name": "ipython",
    "version": 3
   },
   "file_extension": ".py",
   "mimetype": "text/x-python",
   "name": "python",
   "nbconvert_exporter": "python",
   "pygments_lexer": "ipython3",
   "version": "3.7.9"
  }
 },
 "nbformat": 4,
 "nbformat_minor": 4
}
